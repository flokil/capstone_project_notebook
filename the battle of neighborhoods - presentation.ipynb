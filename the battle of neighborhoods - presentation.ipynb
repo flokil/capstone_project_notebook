{
    "nbformat_minor": 1, 
    "cells": [
        {
            "source": "# Comparison of venues in the New York and Toronto neighborhoods", 
            "cell_type": "markdown", 
            "metadata": {
                "collapsed": true
            }
        }, 
        {
            "source": "### relocation intention\n\n- New York NYC) and Toronto (TRNT) are centres of business, finance, tourism, education and arts\n- New York and Toronto divided into a number of neighborhoods\n- Each neighborhood is characterized by different venue categories and the number of venues per venue category\n- people who intend to move are interested in the possibilities in the different neighborhoods", 
            "cell_type": "markdown", 
            "metadata": {}
        }, 
        {
            "source": "### data acquisition\n- boroughs and neighborhoods of the both cities from wikipedia\n- latitude and longitude of each neighborhood via Bing Maps REST Services API\n- venues and venue categories for each neighborhood via foursquare API", 
            "cell_type": "markdown", 
            "metadata": {}
        }, 
        {
            "source": "### feature selection\n- number of venues per venue category and per neighborhood\n- 276 neighborhoods for New York and 73 neighborhoods for Toronto\n- 359 venue categories in total", 
            "cell_type": "markdown", 
            "metadata": {}
        }, 
        {
            "source": "### methodology\n- target is to show how similiar or dissimiliar the neighborhoods of both cities are.\n- using unsupervised machine learning algorithm: clustering with k-means-algorithm", 
            "cell_type": "markdown", 
            "metadata": {}
        }, 
        {
            "source": "### results\n- cluster number is 10\n- The following table show the number of elements per cluster and per city:\n\n| Cluster  | NYC  | TRNT  |\n|:---------|:----:|:-----:|\n| 0        | 6    | 0     |\n| 1        | 206  | 58    |\n| 2        | 0    | 3     |\n| 3        | 2    | 0     |\n| 4        | 1    | 0     |\n| 5        | 0    | 1     |\n| 6        | 31   | 3     |\n| 7        | 2    | 0     |\n| 8        | 27   | 5     |\n| 9        | 1    | 3     |\n", 
            "cell_type": "markdown", 
            "metadata": {}
        }, 
        {
            "source": "### discussion\n- there are neighborhoods of both citites that are unique\n- these are characterized by special venues or a particularly high number of special venue categories", 
            "cell_type": "markdown", 
            "metadata": {}
        }
    ], 
    "metadata": {
        "kernelspec": {
            "display_name": "Python 3.5", 
            "name": "python3", 
            "language": "python"
        }, 
        "language_info": {
            "mimetype": "text/x-python", 
            "nbconvert_exporter": "python", 
            "version": "3.5.5", 
            "name": "python", 
            "file_extension": ".py", 
            "pygments_lexer": "ipython3", 
            "codemirror_mode": {
                "version": 3, 
                "name": "ipython"
            }
        }
    }, 
    "nbformat": 4
}