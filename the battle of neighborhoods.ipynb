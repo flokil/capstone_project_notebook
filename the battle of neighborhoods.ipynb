{
    "nbformat_minor": 1, 
    "cells": [
        {
            "source": "# Introduction", 
            "cell_type": "markdown", 
            "metadata": {}
        }, 
        {
            "source": "I would like to compare the neighborhoods of New York and Toronto based on the number of foursquare-venues in each neighborhood.\nMy first objective is to show how similiar or dissimiliar the neighborhoods of both cities are.\nMy second objective is to find out why the neighborhoods are similiar or dissimiliar.\nMY third objective is to find out which neighborhood has most of offer.\n\nBased on this analysis, I can explain whether it's worth moving to another borough / neighborhood, if I neglect other (import) factors like rental cost, circle of friends, neighbors in the house, salary expectations, environment and criminal statistics.\nThese mentioned factors have a great influence on my third goal. So you should look at the results with caution.\nThe analysis can also be an indicator for an investor who wants to build a house.\n\nThe analysis is the basis for a further comparison of the neighbourhoods and their average rents for example: Can I determine a correlation between similiar neighborhoods and the average rents?\n", 
            "cell_type": "markdown", 
            "metadata": {
                "collapsed": true
            }
        }, 
        {
            "source": "# Data", 
            "cell_type": "markdown", 
            "metadata": {}
        }, 
        {
            "source": "The data via foursquare-api refer to venues and venue categories per neighborhood. I aggregate the data in such a way that a (aggregated) feature is the number of venue categories per neighborhoood. I use one feature per venue category.\nThe resulting matrix consist of all neighborhoods of both cities (rows) and the number of venue categories (columns). The matrix is the basis for the cluster analysis with the k-means-algorithm. \nWith regard to my first objective, the neighborhoods are similar, which have a similarly high number of the same venue category. Similiar means, that the neighborhoods are in the same cluster / get the same cluster number.\nWith regard to my second objective, I compare two classes each and search for the three biggest differences in the number of categories. After that I check the similiarity from one cluster to all other cluster based on the difference per category. I hope that the Top-3-differences will be enough to show me which characteristics / venue categories distinguish a cluster. For a higher sintific quality you can run a t-Test or Mann-Whitney-U-Test, depending on the distribution of the features.\nWith regard to my third objective, I check whether there is a neighborhood that has a high or highest number for each venue category. ", 
            "cell_type": "markdown", 
            "metadata": {}
        }, 
        {
            "source": "", 
            "cell_type": "code", 
            "metadata": {}, 
            "outputs": [], 
            "execution_count": null
        }
    ], 
    "metadata": {
        "kernelspec": {
            "display_name": "Python 3.5", 
            "name": "python3", 
            "language": "python"
        }, 
        "language_info": {
            "mimetype": "text/x-python", 
            "nbconvert_exporter": "python", 
            "version": "3.5.5", 
            "name": "python", 
            "pygments_lexer": "ipython3", 
            "file_extension": ".py", 
            "codemirror_mode": {
                "version": 3, 
                "name": "ipython"
            }
        }
    }, 
    "nbformat": 4
}