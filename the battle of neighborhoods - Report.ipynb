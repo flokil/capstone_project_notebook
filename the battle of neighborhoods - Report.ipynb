{
    "nbformat_minor": 1, 
    "cells": [
        {
            "source": "# Comparison of venues in the New York and Toronto neighborhoods", 
            "cell_type": "markdown", 
            "metadata": {
                "collapsed": true
            }
        }, 
        {
            "source": "### 1. Introduction\n####  1.1 Background", 
            "cell_type": "markdown", 
            "metadata": {}
        }, 
        {
            "source": "New York City (NYC) / Toronto (TRNT) are the most populous cities in in their respective country (United States / Canada). Due to the size of these global cities they are divided into a number of boroughs and neighbourhoods. Although the cities as a whole are centres of business, finance, tourism, education, arts and culture, the offer of each neighborhood can be very different with regard to the venues. While a neighborhood possibly include numerous museums, galleries, festivals and sports activities, another offers many exotic restaurants and cafes. This scenario could lead to the situation, that a job-related move, for example from Toronto to New York, is a big challenge, If you would like a similar neighborhood.", 
            "cell_type": "markdown", 
            "metadata": {}
        }, 
        {
            "source": "#### 1.2 Problem", 
            "cell_type": "markdown", 
            "metadata": {}
        }, 
        {
            "source": "I would like to show whether a moving from one neighborhood of TRNT / NYC to another neighborhood of NYC / TRNT is possible without loss of the familiar environment / neighborhood.\nFor this purpose I use the data refer to venues and venue categories per neighborhood. While I neglect other (import) factors like rental cost, circle of friends, neighbors in the house, salary expectations, environment and criminal statistics. These mentioned factors have a great influence. So you should look at the results with caution.\nMy first objective is to show how similiar or dissimiliar the neighborhoods of both cities are.\nMy second objective is to find out why the neighborhoods are similiar or dissimiliar.\nMy third objective is to find out which neighborhood has most of offer.", 
            "cell_type": "markdown", 
            "metadata": {}
        }, 
        {
            "source": "#### 1.3 Interest", 
            "cell_type": "markdown", 
            "metadata": {}
        }, 
        {
            "source": "Obviously, anyone interested in moving from Toronto to New York or vice versa can use the analysis. possibly also investors buying a house, or people thinking about opening a store in a particular neighborhood.", 
            "cell_type": "markdown", 
            "metadata": {}
        }, 
        {
            "source": "### 2. Data acquisition and cleaning\n#### 2.1 Data sources", 
            "cell_type": "markdown", 
            "metadata": {}
        }, 
        {
            "source": "I get the data concerning the boroughs and neighborhoods of the both city from Wikipedia.\nI use the geocoding python library and the Bing Maps REST Services API for the determing of latitude and longitude of each neighborhood.\nI get the venues and venues categories for each neighborhood from foursquare via foursquare-api.", 
            "cell_type": "markdown", 
            "metadata": {}
        }, 
        {
            "source": "#### 2.2 Data cleaning", 
            "cell_type": "markdown", 
            "metadata": {}
        }, 
        {
            "source": "Each data record from foursquare consists of venues, including name of the venue, latitude and longitude of the venue and venue category. To obtain this data, I submit to the the foursquare-URL my client id, my client secret, the foursquare version, the latitude and the longitude of the neighborhood. So I get all venues (a lot of data records) for each neighborhood. Then I add a column for the respective neighborhood of each data record. Following I aggregate the data in such a way that a (aggregated) feature is the number of venue per neighborhoood and per venue category. So I use one feature per venue category.", 
            "cell_type": "markdown", 
            "metadata": {}
        }, 
        {
            "source": "#### 2.3 Feature selection", 
            "cell_type": "markdown", 
            "metadata": {}
        }, 
        {
            "source": "While New York consists of 276 neighborhoods, Toronto consists of 73 neighborhoods. In total there are 359 venue categories for the both cities. That's why I have 359 features for 343 neighborhoods. Due to I can find only 159 venue categories in both cities, the matrix contains Null values.", 
            "cell_type": "markdown", 
            "metadata": {}
        }, 
        {
            "source": "### 3. Methodology section\n#### 3.1 Exploratory data analysis", 
            "cell_type": "markdown", 
            "metadata": {}
        }, 
        {
            "source": "The relationship between the number of venues per venue category is no condition for the running of further analysis.", 
            "cell_type": "markdown", 
            "metadata": {}
        }, 
        {
            "source": "#### 3.2 Machine learning algorithm", 
            "cell_type": "markdown", 
            "metadata": {}
        }, 
        {
            "source": "My target is to show how similiar or dissimiliar the neighborhoods of both cities are. That's why my target variable is the cluster number for each neighborhood.\nTherefore I use the unsupervised machine learning algorithm clustering with k-means-algorithm, because the target variable is unknown and can not be supervised.", 
            "cell_type": "markdown", 
            "metadata": {}
        }, 
        {
            "source": "### 4. Results", 
            "cell_type": "markdown", 
            "metadata": {}
        }, 
        {
            "source": "I have decided to set the cluster number on 10. The following table show the number of elements per cluster (rows) and per city (column):\n\n| Cluster  | NYC  | TRNT  |\n|:---------|:----:|:-----:|\n| 0        | 6    | 0     |\n| 1        | 206  | 58    |\n| 2        | 0    | 3     |\n| 3        | 2    | 0     |\n| 4        | 1    | 0     |\n| 5        | 0    | 1     |\n| 6        | 31   | 3     |\n| 7        | 2    | 0     |\n| 8        | 27   | 5     |\n| 9        | 1    | 3     |", 
            "cell_type": "markdown", 
            "metadata": {}
        }, 
        {
            "source": "The following tables show the respective cluster with the four venue categories, that the biggest difference between the number of venue category of this cluster and the cluster with the minimum difference to the respective cluster (concerning the venue category).", 
            "cell_type": "markdown", 
            "metadata": {}
        }, 
        {
            "source": "The cluster 0 is characterized by the number of venue categories \"Poke Place\" and \"Stadium\".\n\n| Cluster  | venue.categories  | biggest diff |\n|:---------|:-----------------:|:------------:|\n| 0        | Gaming Cafe       | 0.8          |\n| 0        | Cocktail Bar      | 1.2          |\n| 0        | Stadium           | 1.5          |\n| 0        | Poke Place        | 1.6          |", 
            "cell_type": "markdown", 
            "metadata": {}
        }, 
        {
            "source": "The cluster 1 does not distinguish itself by any special venue categories.\n\n| Cluster  | venue.categories  | biggest diff |\n|:---------|:-----------------:|:------------:|\n| 1        | Hotel Pool        | 0.1          |\n| 1        | Poke Place        | 0.1          |\n| 1        | Bistro            | 0.3          |\n| 1        | Gift Shop         | 0.4          |", 
            "cell_type": "markdown", 
            "metadata": {}
        }, 
        {
            "source": "The cluster 2 is characterized by the number of venue categories \"Laundry Service\" and \"Massage Studio\".\n\n| Cluster  | venue.categories  | biggest diff |\n|:---------|:-----------------:|:------------:|\n| 2        | Event Space       | 1.0          |\n| 2        | Boutique          | 1.0          |\n| 2        | Massage Studio    | 1.0          |\n| 2        | Laundry Service   | 2.5          |", 
            "cell_type": "markdown", 
            "metadata": {}
        }, 
        {
            "source": "The cluster 3 is characterized by the number of venue category \"Climbing Gym\".\n\n| Cluster  | venue.categories  | biggest diff |\n|:---------|:-----------------:|:------------:|\n| 3        | Bistro            | 1.0          |\n| 3        | Business Service  | 1.4          |\n| 3        | Juice Bar         | 1.4          |\n| 3        | Climbing Gym      | 7.3          |", 
            "cell_type": "markdown", 
            "metadata": {}
        }, 
        {
            "source": "The cluster 4 is characterized by the number of venue categories \"Stadium\", \"Thrift / Vintage Store\" and \"Flower Shop\".\n\n| Cluster  | venue.categories  | biggest diff |\n|:---------|:-----------------:|:------------:|\n| 4        | Antique Shop      | 1.0          |\n| 4        | Flower Shop       | 2.0          |\n| 4        | Vintage Store     | 3.0          |\n| 4        | Stadium           | 4.0          |", 
            "cell_type": "markdown", 
            "metadata": {}
        }, 
        {
            "source": "The cluster 5 is characterized by the number of venue categories \"Gym Pool\" and \"Gift Shop\".\n\n| Cluster  | venue.categories  | biggest diff |\n|:---------|:-----------------:|:------------:|\n| 5        | Movie Theater     | 1.3          |\n| 5        | High School       | 1.8          |\n| 5        | Gift Shop         | 2.0          |\n| 5        | Gym pool          | 2.3          |", 
            "cell_type": "markdown", 
            "metadata": {}
        }, 
        {
            "source": "The cluster 6 does not distinguish itself by any special venue categories.\n\n| Cluster  | venue.categories  | biggest diff |\n|:---------|:-----------------:|:------------:|\n| 6        | College Gym       | 0.2          |\n| 6        | Dessert Shop      | 0.2          |\n| 6        | Gay Bar           | 0.2          |\n| 6        | Shanghai Restau.  | 0.3          |", 
            "cell_type": "markdown", 
            "metadata": {}
        }, 
        {
            "source": "The cluster 7 is characterized by the number of venue category \"American Restaurant\".\n\n| Cluster  | venue.categories  | biggest diff |\n|:---------|:-----------------:|:------------:|\n| 7        | Neighborhood      | 1.3          |\n| 7        | Malay Restau.     | 1.5          |\n| 7        | Hookah Bar        | 1.8          |\n| 7        | American Restau.  | 7.0          |", 
            "cell_type": "markdown", 
            "metadata": {}
        }, 
        {
            "source": "The cluster 8 is characterized by the number of venue category \"Bistro\".\n\n| Cluster  | venue.categories  | biggest diff |\n|:---------|:-----------------:|:------------:|\n| 8        | Miscellaneous Shop| 0.3          |\n| 8        | Burrito Place     | 0.3          |\n| 8        | Middle Eastern Res| 0.7          |\n| 8        | Bistro            | 1.1          |", 
            "cell_type": "markdown", 
            "metadata": {}
        }, 
        {
            "source": "The cluster 9 is characterized by the number of venue category \"Massage Studio\".\n\n| Cluster  | venue.categories  | biggest diff |\n|:---------|:-----------------:|:------------:|\n| 9        | Gym Pool          | 0.8          |\n| 9        | Gift Shop         | 0.8          |\n| 9        | Movie Theater     | 0.8          |\n| 9        | Massage Studio    | 1.0          |", 
            "cell_type": "markdown", 
            "metadata": {}
        }, 
        {
            "source": "### 5. Discussion sections", 
            "cell_type": "markdown", 
            "metadata": {}
        }, 
        {
            "source": "Four clusters (0, 3, 4, 2) consist only of New York neighborhoods. This can be explained by the fact that they have many venues from venue.categories that could not be found via foursquare for Toronto.", 
            "cell_type": "markdown", 
            "metadata": {}
        }, 
        {
            "source": "Two clusters (2, 5) consist only of neighborhoods from Toronto. This can be explained by the fact that they have a very high number of venues of a particular venue.category.", 
            "cell_type": "markdown", 
            "metadata": {}
        }, 
        {
            "source": "A large proportion of neighborhoods (see Cluster 1: 206 + 58) are very similar and offer similar venues and a similarly large number of these venue.categories.", 
            "cell_type": "markdown", 
            "metadata": {}
        }
    ], 
    "metadata": {
        "kernelspec": {
            "display_name": "Python 3.5", 
            "name": "python3", 
            "language": "python"
        }, 
        "language_info": {
            "mimetype": "text/x-python", 
            "nbconvert_exporter": "python", 
            "version": "3.5.5", 
            "name": "python", 
            "pygments_lexer": "ipython3", 
            "file_extension": ".py", 
            "codemirror_mode": {
                "version": 3, 
                "name": "ipython"
            }
        }
    }, 
    "nbformat": 4
}